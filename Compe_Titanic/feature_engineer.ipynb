{
 "cells": [
  {
   "cell_type": "code",
   "execution_count": 121,
   "metadata": {},
   "outputs": [],
   "source": [
    "import pandas as pd\n",
    "import numpy as np"
   ]
  },
  {
   "cell_type": "code",
   "execution_count": 122,
   "metadata": {},
   "outputs": [],
   "source": [
    "def generate_metadata(dataframe):\n",
    "    \"\"\"\n",
    "    Generates a DataFrame containing metadata for the columns of the provided DataFrame.\n",
    "\n",
    "    :param dataframe: DataFrame for which metadata will be generated.\n",
    "    :return: DataFrame containing metadata.\n",
    "    \"\"\"\n",
    "\n",
    "    # Collection of basic metadata\n",
    "    metadata = pd.DataFrame({\n",
    "        'variable': dataframe.columns,\n",
    "        'type': dataframe.dtypes,\n",
    "        'null_count': dataframe.isnull().sum(),\n",
    "        'null_percent': round((dataframe.isnull().sum() / len(dataframe))* 100,2),\n",
    "        'cardinality': dataframe.nunique(),\n",
    "    })\n",
    "#     metadata = metadata.sort_values(by='type')\n",
    "    metadata = metadata.reset_index(drop=True)\n",
    "\n",
    "    return metadata"
   ]
  },
  {
   "cell_type": "code",
   "execution_count": 123,
   "metadata": {},
   "outputs": [],
   "source": [
    "train_path = \"./train.csv\"\n",
    "test_path = \"./test.csv\"\n",
    "\n",
    "train_df = pd.read_csv(train_path)\n",
    "test_df = pd.read_csv(test_path)"
   ]
  },
  {
   "cell_type": "code",
   "execution_count": 124,
   "metadata": {},
   "outputs": [
    {
     "name": "stdout",
     "output_type": "stream",
     "text": [
      "       variable     type  null_count  null_percent  cardinality\n",
      "0   PassengerId    int64           0          0.00          891\n",
      "1      Survived    int64           0          0.00            2\n",
      "2        Pclass    int64           0          0.00            3\n",
      "3          Name   object           0          0.00          891\n",
      "4           Sex   object           0          0.00            2\n",
      "5           Age  float64         177         19.87           88\n",
      "6         SibSp    int64           0          0.00            7\n",
      "7         Parch    int64           0          0.00            7\n",
      "8        Ticket   object           0          0.00          681\n",
      "9          Fare  float64           0          0.00          248\n",
      "10        Cabin   object         687         77.10          147\n",
      "11     Embarked   object           2          0.22            3\n"
     ]
    }
   ],
   "source": [
    "metadata = generate_metadata(train_df)\n",
    "print(metadata)"
   ]
  },
  {
   "cell_type": "code",
   "execution_count": 125,
   "metadata": {},
   "outputs": [],
   "source": [
    "## Processing the cabin from C123, D32, ...  -> 3.0, 4.0, ... (take the first char, then turn it into float)\n",
    "# convert the cabin into numerical value\n",
    "def to_numerical(char):\n",
    "    # use if incase of nan value\n",
    "    if pd.notna(char):\n",
    "        return ord(char)-ord('A')+1\n",
    "    return np.nan\n",
    "\n",
    "# take the first char in cabin, then change it into numerical using to_numerical function\n",
    "def fix_cabin(df):\n",
    "    df[\"Cabin\"] = df[\"Cabin\"].str[0]\n",
    "    df[\"Cabin\"] = df[\"Cabin\"].apply(lambda x: to_numerical(x))\n",
    "    return df"
   ]
  },
  {
   "cell_type": "code",
   "execution_count": 126,
   "metadata": {},
   "outputs": [],
   "source": [
    "# use train dataset to find filler\n",
    "# filler is used to fill the nan value (filler is based on the pclass)\n",
    "def find_filler(df):\n",
    "    # find the average age per class\n",
    "    average_age_class = df.groupby('Pclass')['Age'].mean()\n",
    "    # find the mode embarked per class\n",
    "    mode_embarked_class = df.groupby('Pclass')['Embarked'].agg(lambda x: x.mode().iloc[0])\n",
    "    # find the mode of cabin\n",
    "    mode_cabin_class = df.groupby('Pclass')['Cabin'].agg(lambda x: x.mode().iloc[0])\n",
    "\n",
    "    average_age_class = list(average_age_class)\n",
    "    mode_embarked_class = list(mode_embarked_class)\n",
    "    mode_cabin_class = list(mode_cabin_class)\n",
    "\n",
    "    return average_age_class+mode_cabin_class+mode_embarked_class\n",
    "\n",
    "# nan value is filled based on the Pclass, hence why the long repetitive code\n",
    "# fill nan value of age, cabin, embarked (connected to fill_na function)\n",
    "def fill(df, age, cabin, embark):\n",
    "  replace = {\"Age\":age, \"Cabin\":cabin, \"Embarked\":embark}\n",
    "  for col, value in replace.items():\n",
    "    df.loc[df[col].isna(), col] = value\n",
    "  return df\n",
    "\n",
    "# fill the nan value (connected to preprocessing function)\n",
    "## fill na -> split the dataset into 3 based on the class, then fill nan of each class, lastly combine the dataset (if train dataset = shuffle, if test dataset = sort based on id)\n",
    "def fill_na(df, prep_type):\n",
    "\n",
    "    # split into 3 based on class\n",
    "    df1 = df.loc[df[\"Pclass\"]==1]\n",
    "    df2 = df.loc[df[\"Pclass\"]==2]\n",
    "    df3 = df.loc[df[\"Pclass\"]==3]\n",
    "    df_list = [df1, df2, df3]\n",
    "    \n",
    "    # shape probably like this [age1, age2, age3, mode1, mode2, mode3, ...]\n",
    "    filler = find_filler(train_df)\n",
    "    \n",
    "    print(filler)\n",
    "    # fill the nan value in df1, df2, df33\n",
    "    for idx, x in enumerate(df_list):\n",
    "        # what is id, 3+idx, 6+idx?\n",
    "        # basically the filler shape is (age(class1), age(class2), age(class3), cabin(class1), ..., embarked(class3))\n",
    "        df_list[idx] = fill(x, int(filler[idx]), filler[3+idx], filler[6+idx])\n",
    "\n",
    "    # concat all the separated df\n",
    "    final_df = pd.concat([df_list[0], df_list[1], df_list[2]])\n",
    "    \n",
    "    # if train df, shuffle the dataset\n",
    "    if prep_type == \"Train\":\n",
    "        final_df = final_df.sample(frac=1, random_state=64)\n",
    "    # if test df, sort the dataset based on passenger id (to match the correct answer)\n",
    "    else:\n",
    "        final_df.sort_values(by=[\"PassengerId\"], inplace=True)\n",
    "    \n",
    "    return final_df"
   ]
  },
  {
   "cell_type": "code",
   "execution_count": 127,
   "metadata": {},
   "outputs": [],
   "source": [
    "## this is basically combining the fix cabin, fill na, and dropping some column (also changing sex into numerical)\n",
    "def preprocess(df, type):\n",
    "    \n",
    "    # in test we dont drop the passenger id to sort the answer\n",
    "    if type == \"Train\":\n",
    "        # drop passenger id\n",
    "        df.drop(\"PassengerId\", axis=1, inplace=True)\n",
    "\n",
    "    # dropping name, fare, ticket\n",
    "    df.drop(columns=[\"Name\", \"Fare\", \"Ticket\"], inplace=True)\n",
    "    \n",
    "    # changing sex  into numerical\n",
    "    df[\"Sex\"].replace(\"male\", 1, inplace=True)\n",
    "    df[\"Sex\"].replace(\"female\", 0, inplace=True)\n",
    "\n",
    "    # fix the cabin\n",
    "    df = fix_cabin(df)\n",
    "\n",
    "    # input fillna here\n",
    "    df = fill_na(df, type)\n",
    "\n",
    "    # change embarked into numerical\n",
    "    df[\"Embarked\"].replace('C', 1, inplace=True)\n",
    "    df[\"Embarked\"].replace('Q', 2, inplace=True)\n",
    "    df[\"Embarked\"].replace('S', 3, inplace=True)\n",
    "\n",
    "    # split x and y\n",
    "    # case: \n",
    "    # Train: x -> feature, y -> survived\n",
    "    # Test: x -> feature, y -> PassengerID\n",
    "    labels = list(df.columns)\n",
    "    x = df[labels[1:]]\n",
    "    y = df[labels[0]]\n",
    "\n",
    "    return x, y"
   ]
  },
  {
   "cell_type": "code",
   "execution_count": 128,
   "metadata": {},
   "outputs": [
    {
     "name": "stdout",
     "output_type": "stream",
     "text": [
      "[38.233440860215055, 29.87763005780347, 25.14061971830986, 3.0, 6.0, 6.0, 'S', 'S', 'S']\n"
     ]
    },
    {
     "data": {
      "text/html": [
       "<div>\n",
       "<style scoped>\n",
       "    .dataframe tbody tr th:only-of-type {\n",
       "        vertical-align: middle;\n",
       "    }\n",
       "\n",
       "    .dataframe tbody tr th {\n",
       "        vertical-align: top;\n",
       "    }\n",
       "\n",
       "    .dataframe thead th {\n",
       "        text-align: right;\n",
       "    }\n",
       "</style>\n",
       "<table border=\"1\" class=\"dataframe\">\n",
       "  <thead>\n",
       "    <tr style=\"text-align: right;\">\n",
       "      <th></th>\n",
       "      <th>Pclass</th>\n",
       "      <th>Sex</th>\n",
       "      <th>Age</th>\n",
       "      <th>SibSp</th>\n",
       "      <th>Parch</th>\n",
       "      <th>Cabin</th>\n",
       "      <th>Embarked</th>\n",
       "    </tr>\n",
       "  </thead>\n",
       "  <tbody>\n",
       "    <tr>\n",
       "      <th>779</th>\n",
       "      <td>1</td>\n",
       "      <td>0</td>\n",
       "      <td>43.0</td>\n",
       "      <td>0</td>\n",
       "      <td>1</td>\n",
       "      <td>2.0</td>\n",
       "      <td>3</td>\n",
       "    </tr>\n",
       "    <tr>\n",
       "      <th>593</th>\n",
       "      <td>3</td>\n",
       "      <td>0</td>\n",
       "      <td>25.0</td>\n",
       "      <td>0</td>\n",
       "      <td>2</td>\n",
       "      <td>6.0</td>\n",
       "      <td>2</td>\n",
       "    </tr>\n",
       "    <tr>\n",
       "      <th>17</th>\n",
       "      <td>2</td>\n",
       "      <td>1</td>\n",
       "      <td>29.0</td>\n",
       "      <td>0</td>\n",
       "      <td>0</td>\n",
       "      <td>6.0</td>\n",
       "      <td>3</td>\n",
       "    </tr>\n",
       "    <tr>\n",
       "      <th>346</th>\n",
       "      <td>2</td>\n",
       "      <td>0</td>\n",
       "      <td>40.0</td>\n",
       "      <td>0</td>\n",
       "      <td>0</td>\n",
       "      <td>6.0</td>\n",
       "      <td>3</td>\n",
       "    </tr>\n",
       "    <tr>\n",
       "      <th>767</th>\n",
       "      <td>3</td>\n",
       "      <td>0</td>\n",
       "      <td>30.5</td>\n",
       "      <td>0</td>\n",
       "      <td>0</td>\n",
       "      <td>6.0</td>\n",
       "      <td>2</td>\n",
       "    </tr>\n",
       "  </tbody>\n",
       "</table>\n",
       "</div>"
      ],
      "text/plain": [
       "     Pclass  Sex   Age  SibSp  Parch  Cabin  Embarked\n",
       "779       1    0  43.0      0      1    2.0         3\n",
       "593       3    0  25.0      0      2    6.0         2\n",
       "17        2    1  29.0      0      0    6.0         3\n",
       "346       2    0  40.0      0      0    6.0         3\n",
       "767       3    0  30.5      0      0    6.0         2"
      ]
     },
     "execution_count": 128,
     "metadata": {},
     "output_type": "execute_result"
    }
   ],
   "source": [
    "x_train, y_train = preprocess(train_df, \"Train\")\n",
    "x_test, y_test = preprocess(test_df, \"Test\")"
   ]
  },
  {
   "cell_type": "code",
   "execution_count": 129,
   "metadata": {},
   "outputs": [
    {
     "data": {
      "text/plain": [
       "779    1\n",
       "593    0\n",
       "17     1\n",
       "346    1\n",
       "767    0\n",
       "Name: Survived, dtype: int64"
      ]
     },
     "execution_count": 129,
     "metadata": {},
     "output_type": "execute_result"
    }
   ],
   "source": [
    "y_train.head()"
   ]
  },
  {
   "cell_type": "code",
   "execution_count": 130,
   "metadata": {},
   "outputs": [
    {
     "name": "stdout",
     "output_type": "stream",
     "text": [
      "   variable     type  null_count  null_percent  cardinality\n",
      "0    Pclass    int64           0           0.0            3\n",
      "1       Sex    int64           0           0.0            2\n",
      "2       Age  float64           0           0.0           88\n",
      "3     SibSp    int64           0           0.0            7\n",
      "4     Parch    int64           0           0.0            7\n",
      "5     Cabin  float64           0           0.0            8\n",
      "6  Embarked    int64           0           0.0            3\n"
     ]
    }
   ],
   "source": [
    "metadata = generate_metadata(x_train)\n",
    "print(metadata)"
   ]
  },
  {
   "cell_type": "code",
   "execution_count": null,
   "metadata": {},
   "outputs": [],
   "source": []
  }
 ],
 "metadata": {
  "kernelspec": {
   "display_name": "Python 3",
   "language": "python",
   "name": "python3"
  },
  "language_info": {
   "codemirror_mode": {
    "name": "ipython",
    "version": 3
   },
   "file_extension": ".py",
   "mimetype": "text/x-python",
   "name": "python",
   "nbconvert_exporter": "python",
   "pygments_lexer": "ipython3",
   "version": "3.11.4"
  },
  "orig_nbformat": 4
 },
 "nbformat": 4,
 "nbformat_minor": 2
}
